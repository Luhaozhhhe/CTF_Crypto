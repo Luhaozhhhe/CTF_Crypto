{
 "cells": [
  {
   "cell_type": "code",
   "execution_count": null,
   "id": "2eb9cca0-5487-4049-9507-b49f47c5f75d",
   "metadata": {},
   "outputs": [],
   "source": [
    "#!/usr/local/bin/python3\n",
    "\n",
    "from Crypto.Util.number import isPrime\n",
    "\n",
    "\n",
    "def RSAaaS():\n",
    "    try:\n",
    "        print(\"Welcome to my RSA as a Service! \")\n",
    "        print(\"Pass me two primes and I'll do the rest for you. \")\n",
    "        print(\"Let's keep the primes at a 64 bit size, please. \")\n",
    "\n",
    "        while True:\n",
    "            p = input(\"Input p: \")\n",
    "            q = input(\"Input q: \")\n",
    "            try:\n",
    "                p = int(p)\n",
    "                q = int(q)\n",
    "                assert isPrime(p)\n",
    "                assert isPrime(q)\n",
    "            except:\n",
    "                print(\"Hm, looks like something's wrong with the primes you sent. \")\n",
    "                print(\"Please try again. \")\n",
    "                continue\n",
    "\n",
    "            try:\n",
    "                assert p != q\n",
    "            except:\n",
    "                print(\"You should probably make your primes different. \")\n",
    "                continue\n",
    "\n",
    "            try:\n",
    "                assert (p > 2**63) and (p < 2**64)\n",
    "                assert (q > 2**63) and (q < 2**64)\n",
    "                break\n",
    "            except:\n",
    "                print(\"Please keep your primes in the requested size range. \")\n",
    "                print(\"Please try again. \")\n",
    "                continue\n",
    "\n",
    "        n = p * q\n",
    "        phi = (p - 1) * (q - 1)\n",
    "        e = 65537\n",
    "        d = pow(e, -1, phi)\n",
    "\n",
    "        print(\"Alright! RSA is all set! \")\n",
    "        while True:\n",
    "            print(\"1. Encrypt 2. Decrypt 3. Exit \")\n",
    "            choice = input(\"Pick an option: \")\n",
    "\n",
    "            if choice == \"1\":\n",
    "                msg = input(\"Input a message (as an int): \")\n",
    "                try:\n",
    "                    msg = int(msg)\n",
    "                except:\n",
    "                    print(\"Hm, looks like something's wrong with your message. \")\n",
    "                    continue\n",
    "                encrypted = pow(msg, e, n)\n",
    "                print(\"Here's your ciphertext! \")\n",
    "                print(encrypted)\n",
    "\n",
    "            elif choice == \"2\":\n",
    "                ct = input(\"Input a ciphertext (as an int): \")\n",
    "                try:\n",
    "                    ct = int(ct)\n",
    "                except:\n",
    "                    print(\"Hm, looks like something's wrong with your message. \")\n",
    "                    continue\n",
    "                decrypted = pow(ct, d, n)\n",
    "                print(\"Here's your plaintext! \")\n",
    "                print(decrypted)\n",
    "\n",
    "            else:\n",
    "                print(\"Thanks for using my service! \")\n",
    "                print(\"Buh bye! \")\n",
    "                break\n",
    "\n",
    "    except Exception:\n",
    "        print(\"Oh no! My service! Please don't give us a bad review! \")\n",
    "        print(\"Here, have a complementary flag for your troubles. \")\n",
    "        with open(\"flag.txt\", \"r\") as f:\n",
    "            print(f.read())\n",
    "\n",
    "\n",
    "RSAaaS()\n"
   ]
  },
  {
   "cell_type": "code",
   "execution_count": 1,
   "id": "64a8becb-e972-449d-8f40-3373e073b109",
   "metadata": {},
   "outputs": [
    {
     "name": "stdout",
     "output_type": "stream",
     "text": [
      "9223372036859527241\n"
     ]
    }
   ],
   "source": [
    "from Crypto.Util.number import isPrime\n",
    "# 寻找满足条件的64位素数\n",
    "e = 65537\n",
    "start = 2**63\n",
    "end = 2**64\n",
    "\n",
    "for p_candidate in range(start, end):\n",
    "    if isPrime(p_candidate) and (p_candidate - 1) % e == 0:\n",
    "        p = p_candidate\n",
    "        break\n",
    "print(p)"
   ]
  },
  {
   "cell_type": "code",
   "execution_count": 5,
   "id": "3ef6c820-e8ac-475a-bcba-1d49d1381d28",
   "metadata": {},
   "outputs": [
    {
     "name": "stdout",
     "output_type": "stream",
     "text": [
      "140735340904520\n"
     ]
    }
   ],
   "source": [
    "p=9223372036859527241\n",
    "print((p-1)//65537)"
   ]
  },
  {
   "cell_type": "code",
   "execution_count": 6,
   "id": "e292a07f-b385-4653-a537-c0a0d6716311",
   "metadata": {},
   "outputs": [
    {
     "data": {
      "text/plain": [
       "True"
      ]
     },
     "execution_count": 6,
     "metadata": {},
     "output_type": "execute_result"
    }
   ],
   "source": [
    "140735340904520*65537+1==p"
   ]
  },
  {
   "cell_type": "code",
   "execution_count": 7,
   "id": "495a78db-415d-420d-830b-de4744703a3b",
   "metadata": {},
   "outputs": [
    {
     "name": "stdout",
     "output_type": "stream",
     "text": [
      "9223372036854775837\n"
     ]
    }
   ],
   "source": [
    "from Crypto.Util.number import isPrime\n",
    "# 寻找满足条件的64位素数\n",
    "e = 65537\n",
    "start = 2**63\n",
    "end = 2**64\n",
    "\n",
    "for p_candidate in range(start, end):\n",
    "    if isPrime(p_candidate):\n",
    "        p = p_candidate\n",
    "        break\n",
    "\n",
    "\n",
    "print(p)"
   ]
  },
  {
   "cell_type": "code",
   "execution_count": 8,
   "id": "7ef3d507-0da3-4ee2-870e-cfac44e4e4ce",
   "metadata": {},
   "outputs": [
    {
     "ename": "ValueError",
     "evalue": "base is not invertible for the given modulus",
     "output_type": "error",
     "traceback": [
      "\u001b[1;31m---------------------------------------------------------------------------\u001b[0m",
      "\u001b[1;31mValueError\u001b[0m                                Traceback (most recent call last)",
      "Cell \u001b[1;32mIn[8], line 7\u001b[0m\n\u001b[0;32m      5\u001b[0m phi \u001b[38;5;241m=\u001b[39m (p \u001b[38;5;241m-\u001b[39m \u001b[38;5;241m1\u001b[39m) \u001b[38;5;241m*\u001b[39m (q \u001b[38;5;241m-\u001b[39m \u001b[38;5;241m1\u001b[39m)\n\u001b[0;32m      6\u001b[0m e \u001b[38;5;241m=\u001b[39m \u001b[38;5;241m65537\u001b[39m\n\u001b[1;32m----> 7\u001b[0m d \u001b[38;5;241m=\u001b[39m \u001b[38;5;28;43mpow\u001b[39;49m\u001b[43m(\u001b[49m\u001b[43me\u001b[49m\u001b[43m,\u001b[49m\u001b[43m \u001b[49m\u001b[38;5;241;43m-\u001b[39;49m\u001b[38;5;241;43m1\u001b[39;49m\u001b[43m,\u001b[49m\u001b[43m \u001b[49m\u001b[43mphi\u001b[49m\u001b[43m)\u001b[49m\n\u001b[0;32m      8\u001b[0m \u001b[38;5;28mprint\u001b[39m(d)\n",
      "\u001b[1;31mValueError\u001b[0m: base is not invertible for the given modulus"
     ]
    }
   ],
   "source": [
    "from Crypto.Util.number import *\n",
    "p=9223372036859527241\n",
    "q=9223372036854775837\n",
    "n = p * q\n",
    "phi = (p - 1) * (q - 1)\n",
    "e = 65537\n",
    "d = pow(e, -1, phi)\n",
    "print(d)"
   ]
  },
  {
   "cell_type": "code",
   "execution_count": null,
   "id": "961066fd-1022-4f71-a5cc-914b2897bc88",
   "metadata": {},
   "outputs": [],
   "source": []
  }
 ],
 "metadata": {
  "kernelspec": {
   "display_name": "Python 3 (ipykernel)",
   "language": "python",
   "name": "python3"
  },
  "language_info": {
   "codemirror_mode": {
    "name": "ipython",
    "version": 3
   },
   "file_extension": ".py",
   "mimetype": "text/x-python",
   "name": "python",
   "nbconvert_exporter": "python",
   "pygments_lexer": "ipython3",
   "version": "3.11.9"
  }
 },
 "nbformat": 4,
 "nbformat_minor": 5
}
