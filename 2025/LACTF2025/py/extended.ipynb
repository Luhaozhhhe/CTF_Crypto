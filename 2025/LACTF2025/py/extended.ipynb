{
 "cells": [
  {
   "cell_type": "code",
   "execution_count": null,
   "id": "99dcbd2c-7bb3-4709-9211-774df83e7187",
   "metadata": {},
   "outputs": [],
   "source": [
    "flag = \"lactf{REDACTED}\"\n",
    "extended_flag = \"\"\n",
    "\n",
    "for c in flag:\n",
    "    o = bin(ord(c))[2:].zfill(8)\n",
    "\n",
    "    # Replace the first 0 with a 1\n",
    "    for i in range(8):\n",
    "        if o[i] == \"0\":\n",
    "            o = o[:i] + \"1\" + o[i + 1 :]\n",
    "            break\n",
    "\n",
    "    extended_flag += chr(int(o, 2))\n",
    "\n",
    "print(extended_flag)\n",
    "\n",
    "with open(\"chall.txt\", \"wb\") as f:\n",
    "    f.write(extended_flag.encode(\"iso8859-1\"))\n"
   ]
  },
  {
   "cell_type": "code",
   "execution_count": 2,
   "id": "1d31810e-5e20-44d6-8a64-0bac0c0938dd",
   "metadata": {},
   "outputs": [
    {
     "name": "stdout",
     "output_type": "stream",
     "text": [
      "lactf{Funnily_Enough_This_Looks_Different_On_Mac_And_Windows}\n"
     ]
    }
   ],
   "source": [
    "# 读取chall.txt文件内容\n",
    "with open(\"./chall.txt\", \"rb\") as f:\n",
    "    extended_flag = f.read().decode(\"iso8859-1\")\n",
    "\n",
    "# 初始化还原后的字符串\n",
    "original_flag = \"\"\n",
    "\n",
    "# 遍历extended_flag中的每个字符\n",
    "for c in extended_flag:\n",
    "    # 将字符转换为ASCII码，再转换为8位二进制字符串\n",
    "    o = bin(ord(c))[2:].zfill(8)\n",
    "\n",
    "    # 找到二进制字符串中第一个1，并将其替换为0\n",
    "    for i in range(8):\n",
    "        if o[i] == \"1\":\n",
    "            o = o[:i] + \"0\" + o[i + 1:]\n",
    "            break\n",
    "\n",
    "    # 将处理后的二进制字符串转换回整数，再转换为字符，添加到original_flag中\n",
    "    original_flag += chr(int(o, 2))\n",
    "\n",
    "# 输出还原后的字符串\n",
    "print(original_flag)"
   ]
  },
  {
   "cell_type": "code",
   "execution_count": null,
   "id": "ad9f20ad-6cd4-4c77-9d67-70e692d20fda",
   "metadata": {},
   "outputs": [],
   "source": []
  }
 ],
 "metadata": {
  "kernelspec": {
   "display_name": "Python 3 (ipykernel)",
   "language": "python",
   "name": "python3"
  },
  "language_info": {
   "codemirror_mode": {
    "name": "ipython",
    "version": 3
   },
   "file_extension": ".py",
   "mimetype": "text/x-python",
   "name": "python",
   "nbconvert_exporter": "python",
   "pygments_lexer": "ipython3",
   "version": "3.11.9"
  }
 },
 "nbformat": 4,
 "nbformat_minor": 5
}
