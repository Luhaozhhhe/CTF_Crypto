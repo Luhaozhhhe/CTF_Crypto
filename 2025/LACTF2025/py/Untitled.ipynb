{
 "cells": [
  {
   "cell_type": "code",
   "execution_count": 2,
   "id": "e10ebd73-2a5f-4d16-986a-03f7d9b4e12f",
   "metadata": {},
   "outputs": [
    {
     "name": "stdout",
     "output_type": "stream",
     "text": [
      "lactf{no_grizzly_walls_here}\n"
     ]
    }
   ],
   "source": [
    "import base64\n",
    "\n",
    "# 最终的 Base64 编码字符串\n",
    "encoded_result = \"JTNEJTNEUWZsSlglNUJPTERfREFUQSU1RG85MWNzeFdZMzlWZXNwbmVwSjMlNUJPTERfREFUQSU1RGY5bWI3JTVCT0xEX0RBVEElNURHZGpGR2I=\"\n",
    "\n",
    "# 步骤 5 逆向：Base64 解码\n",
    "step4 = base64.b64decode(encoded_result).decode('utf-8')\n",
    "\n",
    "# 步骤 4 逆向：URI 解码\n",
    "from urllib.parse import unquote\n",
    "step3 = unquote(step4)\n",
    "\n",
    "# 步骤 3 逆向：替换 [OLD_DATA] 为 Z\n",
    "step2 = step3.replace(\"[OLD_DATA]\", \"Z\")\n",
    "\n",
    "# 步骤 2 逆向：反转字符串\n",
    "step1 = step2[::-1]\n",
    "\n",
    "# 步骤 1 逆向：Base64 解码\n",
    "original_flag = base64.b64decode(step1).decode('utf-8')\n",
    "\n",
    "print(original_flag)"
   ]
  },
  {
   "cell_type": "code",
   "execution_count": null,
   "id": "3af3cc84-ace3-4f92-b528-7fe093e44e66",
   "metadata": {},
   "outputs": [],
   "source": [
    "l_alcotsft{_tihne__ifnlfaign_igtoyt}"
   ]
  },
  {
   "cell_type": "code",
   "execution_count": 4,
   "id": "ca916172-fc5e-43ec-954a-0889d5da949a",
   "metadata": {},
   "outputs": [
    {
     "name": "stdout",
     "output_type": "stream",
     "text": [
      "lactf{the_flag_got_lost_in_infinity}\n"
     ]
    }
   ],
   "source": [
    "target = \"l_alcotsft{_tihne__ifnlfaign_igtoyt}\"\n",
    "# 计算 target 长度的一半\n",
    "half_length = len(target) // 2\n",
    "# 初始化存储前半部分和后半部分的列表\n",
    "first_half = []\n",
    "second_half = []\n",
    "# 遍历，按顺序提取前半部分和后半部分的字符\n",
    "for i in range(half_length):\n",
    "    first_half.append(target[2 * i])\n",
    "    second_half.append(target[2 * i + 1])\n",
    "# 将列表转换为字符串\n",
    "first_half_str = ''.join(first_half)\n",
    "second_half_str = ''.join(second_half)\n",
    "# 拼接前半部分和后半部分得到原始 flag\n",
    "original_flag = first_half_str + second_half_str\n",
    "print(original_flag)"
   ]
  },
  {
   "cell_type": "code",
   "execution_count": null,
   "id": "90a4e5eb-17f0-40fa-b458-3e58292d5587",
   "metadata": {},
   "outputs": [],
   "source": []
  }
 ],
 "metadata": {
  "kernelspec": {
   "display_name": "Python 3 (ipykernel)",
   "language": "python",
   "name": "python3"
  },
  "language_info": {
   "codemirror_mode": {
    "name": "ipython",
    "version": 3
   },
   "file_extension": ".py",
   "mimetype": "text/x-python",
   "name": "python",
   "nbconvert_exporter": "python",
   "pygments_lexer": "ipython3",
   "version": "3.11.9"
  }
 },
 "nbformat": 4,
 "nbformat_minor": 5
}
