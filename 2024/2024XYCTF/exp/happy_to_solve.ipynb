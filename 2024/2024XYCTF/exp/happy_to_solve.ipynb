{
 "cells": [
  {
   "cell_type": "code",
   "execution_count": 25,
   "id": "783c6022",
   "metadata": {},
   "outputs": [
    {
     "ename": "ImportError",
     "evalue": "cannot import name 'flag' from 'secrets' (D:\\anaconda3\\Lib\\secrets.py)",
     "output_type": "error",
     "traceback": [
      "\u001b[1;31m---------------------------------------------------------------------------\u001b[0m",
      "\u001b[1;31mImportError\u001b[0m                               Traceback (most recent call last)",
      "Cell \u001b[1;32mIn[25], line 3\u001b[0m\n\u001b[0;32m      1\u001b[0m \u001b[38;5;28;01mfrom\u001b[39;00m \u001b[38;5;21;01mCrypto\u001b[39;00m\u001b[38;5;21;01m.\u001b[39;00m\u001b[38;5;21;01mUtil\u001b[39;00m\u001b[38;5;21;01m.\u001b[39;00m\u001b[38;5;21;01mnumber\u001b[39;00m \u001b[38;5;28;01mimport\u001b[39;00m \u001b[38;5;241m*\u001b[39m\n\u001b[0;32m      2\u001b[0m \u001b[38;5;28;01mimport\u001b[39;00m \u001b[38;5;21;01msympy\u001b[39;00m\n\u001b[1;32m----> 3\u001b[0m \u001b[38;5;28;01mfrom\u001b[39;00m \u001b[38;5;21;01msecrets\u001b[39;00m \u001b[38;5;28;01mimport\u001b[39;00m flag\n\u001b[0;32m      6\u001b[0m \u001b[38;5;28;01mdef\u001b[39;00m \u001b[38;5;21mget_happy_prime\u001b[39m():\n\u001b[0;32m      7\u001b[0m     p \u001b[38;5;241m=\u001b[39m getPrime(\u001b[38;5;241m512\u001b[39m)\n",
      "\u001b[1;31mImportError\u001b[0m: cannot import name 'flag' from 'secrets' (D:\\anaconda3\\Lib\\secrets.py)"
     ]
    }
   ],
   "source": [
    "from Crypto.Util.number import *\n",
    "import sympy\n",
    "from secrets import flag\n",
    "\n",
    "\n",
    "def get_happy_prime():\n",
    "    p = getPrime(512)\n",
    "    q = sympy.nextprime(p ^ ((1 << 512) - 1))\n",
    "    return p, q\n",
    "\n",
    "\n",
    "m = bytes_to_long(flag)\n",
    "p, q = get_happy_prime()\n",
    "n = p * q\n",
    "e = 65537\n",
    "print(n)\n",
    "print(pow(m, e, n))\n",
    "# 24852206647750545040640868093921252282805229864862413863025873203291042799096787789288461426555716785288286492530194901130042940279109598071958012303179823645151637759103558737126271435636657767272703908384802528366090871653024192321398785017073393201385586868836278447340624427705360349350604325533927890879\n",
    "# 14767985399473111932544176852718061186100743117407141435994374261886396781040934632110608219482140465671269958180849886097491653105939368395716596413352563005027867546585191103214650790884720729601171517615620202183534021987618146862260558624458833387692782722514796407503120297235224234298891794056695442287"
   ]
  },
  {
   "cell_type": "code",
   "execution_count": 26,
   "id": "e3e8d27d",
   "metadata": {},
   "outputs": [
    {
     "name": "stdout",
     "output_type": "stream",
     "text": [
      "11186104509771514497905845277525414324848282003961401424656189058347435564219816052776565548550435972724614541793612778837623695399649245354880712765072167\n",
      "b'XYCTF{3f22f4efe3bbbc71bbcc999a0a622a1a23303cdc}'\n"
     ]
    }
   ],
   "source": [
    "import gmpy2\n",
    "import sympy\n",
    "import libnum\n",
    "n = 24852206647750545040640868093921252282805229864862413863025873203291042799096787789288461426555716785288286492530194901130042940279109598071958012303179823645151637759103558737126271435636657767272703908384802528366090871653024192321398785017073393201385586868836278447340624427705360349350604325533927890879\n",
    "c = 14767985399473111932544176852718061186100743117407141435994374261886396781040934632110608219482140465671269958180849886097491653105939368395716596413352563005027867546585191103214650790884720729601171517615620202183534021987618146862260558624458833387692782722514796407503120297235224234298891794056695442287\n",
    "e = 65537\n",
    "p=(gmpy2.iroot(pow(2,1024)-4*n,2)[0]+pow(2,512))//2\n",
    "# p=(2**1024+gmpy2.iroot((2**1024)**2-4*n,2)[0])//2\n",
    "p=int(p)\n",
    "while(1):\n",
    "    p=sympy.nextprime(p)\n",
    "    if(n%p==0):\n",
    "        print(p)\n",
    "        break\n",
    "q=n//p\n",
    "phi=(p-1)*(q-1)\n",
    "d=gmpy2.invert(e,phi)\n",
    "m=pow(c,d,n)\n",
    "flag=libnum.n2s(int(m))\n",
    "print(flag)"
   ]
  },
  {
   "cell_type": "code",
   "execution_count": null,
   "id": "4b7409dd",
   "metadata": {},
   "outputs": [],
   "source": []
  },
  {
   "cell_type": "code",
   "execution_count": null,
   "id": "9346fc9d",
   "metadata": {},
   "outputs": [],
   "source": []
  }
 ],
 "metadata": {
  "kernelspec": {
   "display_name": "Python 3 (ipykernel)",
   "language": "python",
   "name": "python3"
  },
  "language_info": {
   "codemirror_mode": {
    "name": "ipython",
    "version": 3
   },
   "file_extension": ".py",
   "mimetype": "text/x-python",
   "name": "python",
   "nbconvert_exporter": "python",
   "pygments_lexer": "ipython3",
   "version": "3.11.4"
  }
 },
 "nbformat": 4,
 "nbformat_minor": 5
}
