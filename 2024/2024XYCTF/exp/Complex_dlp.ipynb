{
 "cells": [
  {
   "cell_type": "code",
   "execution_count": null,
   "id": "d90fffbe",
   "metadata": {
    "scrolled": true
   },
   "outputs": [],
   "source": [
    "from Crypto.Util.number import *\n",
    "from secrets import flag\n",
    "\n",
    "\n",
    "class Complex:\n",
    "    def __init__(self, re, im):\n",
    "        self.re = re\n",
    "        self.im = im\n",
    "\n",
    "    def __mul__(self, c):\n",
    "        re_ = self.re * c.re - self.im * c.im\n",
    "        im_ = self.re * c.im + self.im * c.re\n",
    "        return Complex(re_, im_)\n",
    "\n",
    "    def __str__(self):\n",
    "        if self.im == 0:\n",
    "            return str(self.re)\n",
    "        elif self.re == 0:\n",
    "            if abs(self.im) == 1:\n",
    "                return f\"{'-' if self.im < 0 else ''}i\"\n",
    "            else:\n",
    "                return f\"{self.im}i\"\n",
    "        else:\n",
    "            return f\"{self.re} {'+' if self.im > 0 else '-'} {abs(self.im)}i\"\n",
    "\n",
    "\n",
    "def complex_pow(c, exp, n):\n",
    "    result = Complex(1, 0)\n",
    "    while exp > 0:\n",
    "        if exp & 1:\n",
    "            result = result * c\n",
    "            result.re = result.re % n\n",
    "            result.im = result.im % n\n",
    "        c = c * c\n",
    "        c.re = c.re % n\n",
    "        c.im = c.im % n\n",
    "        exp >>= 1\n",
    "    return result\n",
    "\n",
    "\n",
    "flag = flag.strip(b\"XYCTF{\").strip(b\"}\")\n",
    "p = 1127236854942215744482170859284245684922507818478439319428888584898927520579579027\n",
    "g = Complex(3, 7)\n",
    "x = bytes_to_long(flag)\n",
    "\n",
    "print(complex_pow(g, x, p))\n",
    "# 5699996596230726507553778181714315375600519769517892864468100565238657988087817 + 198037503897625840198829901785272602849546728822078622977599179234202360717671908i\n"
   ]
  },
  {
   "cell_type": "code",
   "execution_count": 27,
   "id": "3e0d79a3",
   "metadata": {},
   "outputs": [
    {
     "data": {
      "text/plain": [
       "39251342911199211716070123777803281436879940112123590669478813896471913581108556796018465160867515636371044746242661417311686375230577944507484968259799636185953"
      ]
     },
     "execution_count": 27,
     "metadata": {},
     "output_type": "execute_result"
    }
   ],
   "source": [
    "5699996596230726507553778181714315375600519769517892864468100565238657988087817**2+198037503897625840198829901785272602849546728822078622977599179234202360717671908**2"
   ]
  },
  {
   "cell_type": "code",
   "execution_count": 28,
   "id": "5efe12c9",
   "metadata": {},
   "outputs": [
    {
     "data": {
      "text/plain": [
       "440338354863477089588878295048682566041450520053821907911657559153659930236947297"
      ]
     },
     "execution_count": 28,
     "metadata": {},
     "output_type": "execute_result"
    }
   ],
   "source": [
    "39251342911199211716070123777803281436879940112123590669478813896471913581108556796018465160867515636371044746242661417311686375230577944507484968259799636185953%1127236854942215744482170859284245684922507818478439319428888584898927520579579027"
   ]
  },
  {
   "cell_type": "code",
   "execution_count": 8,
   "id": "2652fc6d",
   "metadata": {
    "scrolled": true
   },
   "outputs": [
    {
     "ename": "NameError",
     "evalue": "name 'discrete_log' is not defined",
     "output_type": "error",
     "traceback": [
      "\u001b[1;31m---------------------------------------------------------------------------\u001b[0m",
      "\u001b[1;31mNameError\u001b[0m                                 Traceback (most recent call last)",
      "Cell \u001b[1;32mIn[8], line 4\u001b[0m\n\u001b[0;32m      2\u001b[0m g \u001b[38;5;241m=\u001b[39m \u001b[38;5;241m3\u001b[39m\u001b[38;5;241m*\u001b[39m\u001b[38;5;241m*\u001b[39m\u001b[38;5;241m2\u001b[39m \u001b[38;5;241m+\u001b[39m \u001b[38;5;241m7\u001b[39m\u001b[38;5;241m*\u001b[39m\u001b[38;5;241m*\u001b[39m\u001b[38;5;241m2\u001b[39m\n\u001b[0;32m      3\u001b[0m c \u001b[38;5;241m=\u001b[39m\u001b[38;5;241m5699996596230726507553778181714315375600519769517892864468100565238657988087817\u001b[39m\u001b[38;5;241m*\u001b[39m\u001b[38;5;241m*\u001b[39m\u001b[38;5;241m2\u001b[39m\u001b[38;5;241m+\u001b[39m\u001b[38;5;241m198037503897625840198829901785272602849546728822078622977599179234202360717671908\u001b[39m\u001b[38;5;241m*\u001b[39m\u001b[38;5;241m*\u001b[39m\u001b[38;5;241m2\u001b[39m\n\u001b[1;32m----> 4\u001b[0m discrete_log(c, g)\n",
      "\u001b[1;31mNameError\u001b[0m: name 'discrete_log' is not defined"
     ]
    }
   ],
   "source": [
    "\n",
    "p =1127236854942215744482170859284245684922507818478439319428888584898927520579579027\n",
    "g = 3**2 + 7**2\n",
    "c =5699996596230726507553778181714315375600519769517892864468100565238657988087817**2+198037503897625840198829901785272602849546728822078622977599179234202360717671908**2\n",
    "\n"
   ]
  },
  {
   "cell_type": "code",
   "execution_count": 10,
   "id": "57cac74f",
   "metadata": {},
   "outputs": [
    {
     "data": {
      "text/plain": [
       "b'___c0mp13x_d1p_15_3@5y_f0r_y0u___'"
      ]
     },
     "execution_count": 10,
     "metadata": {},
     "output_type": "execute_result"
    }
   ],
   "source": [
    "x=11043386733210093783917591062922767739440701223101839768310052590794700044066655\n",
    "long_to_bytes(x)"
   ]
  },
  {
   "cell_type": "code",
   "execution_count": null,
   "id": "c98912f9",
   "metadata": {},
   "outputs": [],
   "source": [
    "XYCTF{___c0mp13x_d1p_15_3@5y_f0r_y0u___}"
   ]
  }
 ],
 "metadata": {
  "kernelspec": {
   "display_name": "Python 3 (ipykernel)",
   "language": "python",
   "name": "python3"
  },
  "language_info": {
   "codemirror_mode": {
    "name": "ipython",
    "version": 3
   },
   "file_extension": ".py",
   "mimetype": "text/x-python",
   "name": "python",
   "nbconvert_exporter": "python",
   "pygments_lexer": "ipython3",
   "version": "3.11.4"
  }
 },
 "nbformat": 4,
 "nbformat_minor": 5
}
