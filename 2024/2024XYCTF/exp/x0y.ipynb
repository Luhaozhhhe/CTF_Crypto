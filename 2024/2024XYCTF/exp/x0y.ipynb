{
 "cells": [
  {
   "cell_type": "code",
   "execution_count": null,
   "id": "d06d44af",
   "metadata": {},
   "outputs": [],
   "source": [
    "from Crypto.Cipher import AES\n",
    "from Crypto.Util.Padding import pad\n",
    "import os\n",
    "\n",
    "flag = open(\"flag.txt\", \"rb\").read()\n",
    "key = os.urandom(16)\n",
    "iv = os.urandom(16)\n",
    "flag = pad(flag, 16)\n",
    "\n",
    "\n",
    "def aes_encrypt(key, plaintext):\n",
    "    cipher = AES.new(key, AES.MODE_ECB)\n",
    "    return cipher.encrypt(plaintext)\n",
    "\n",
    "\n",
    "def encrypt(key, plaintext, iv):\n",
    "    ciphertext = b\"\"\n",
    "    for i in range(0, len(plaintext), AES.block_size):\n",
    "        key_block = aes_encrypt(key, iv)\n",
    "        ciphertext_block = bytes(\n",
    "            [plaintext[i + j] ^ key_block[j] for j in range(AES.block_size)]\n",
    "        )\n",
    "        ciphertext += ciphertext_block\n",
    "        iv = key_block\n",
    "    return ciphertext\n",
    "\n",
    "\n",
    "while 1:\n",
    "    try:\n",
    "        print(\"1.print\\n2.input\\n3.exit\")\n",
    "        a = input(\"> \")\n",
    "        if a == \"1\":\n",
    "            print((iv + encrypt(key, flag, iv)).hex())\n",
    "        elif a == \"2\":\n",
    "            ivs = bytes.fromhex(input(\"iv: \"))\n",
    "            inputs = bytes.fromhex(input(\"message: \"))\n",
    "            print(encrypt(key, inputs, ivs).hex())\n",
    "        elif a == \"3\":\n",
    "            exit(0)\n",
    "        else:\n",
    "            print(\"You need input 1,2,3\")\n",
    "    except:exit(0)"
   ]
  },
  {
   "cell_type": "code",
   "execution_count": null,
   "id": "b53e9e86",
   "metadata": {},
   "outputs": [],
   "source": [
    "f7289965032e3bce6a33f236101027f310d6270cd1fd12dbb659e1a020916bdfa0004475f0040b2ffa2ee533263366d5bcac72ca85ed014aa46149827b05fb84"
   ]
  },
  {
   "cell_type": "code",
   "execution_count": null,
   "id": "546f11df",
   "metadata": {},
   "outputs": [],
   "source": [
    "iv + encrypt(key, flag, iv)=8884808986044003509618609025652783250123177695594857329632609674511065765584166225265020095424984295196614944842716561749434222568272009692165433973076615\n"
   ]
  },
  {
   "cell_type": "code",
   "execution_count": 4,
   "id": "61447ef0",
   "metadata": {},
   "outputs": [
    {
     "data": {
      "text/plain": [
       "'745ae3f97aaac5ff308168c0b3beadbf'"
      ]
     },
     "execution_count": 4,
     "metadata": {},
     "output_type": "execute_result"
    }
   ],
   "source": [
    "from Crypto.Cipher import AES\n",
    "from Crypto.Util.Padding import pad\n",
    "import os\n",
    "\n",
    "\n",
    "key = os.urandom(16)\n",
    "iv = os.urandom(16)\n",
    "iv.hex()"
   ]
  },
  {
   "cell_type": "code",
   "execution_count": 5,
   "id": "3e7d6459",
   "metadata": {},
   "outputs": [
    {
     "data": {
      "text/plain": [
       "32"
      ]
     },
     "execution_count": 5,
     "metadata": {},
     "output_type": "execute_result"
    }
   ],
   "source": [
    "len(\"745ae3f97aaac5ff308168c0b3beadbf\")"
   ]
  },
  {
   "cell_type": "code",
   "execution_count": 11,
   "id": "96c3528d",
   "metadata": {},
   "outputs": [
    {
     "data": {
      "text/plain": [
       "128"
      ]
     },
     "execution_count": 11,
     "metadata": {},
     "output_type": "execute_result"
    }
   ],
   "source": [
    "len(\"f7289965032e3bce6a33f236101027f310d6270cd1fd12dbb659e1a020916bdfa0004475f0040b2ffa2ee533263366d5bcac72ca85ed014aa46149827b05fb84\")"
   ]
  },
  {
   "cell_type": "code",
   "execution_count": 12,
   "id": "91428516",
   "metadata": {},
   "outputs": [
    {
     "data": {
      "text/plain": [
       "'f7289965032e3bce6a33f236101027f3'"
      ]
     },
     "execution_count": 12,
     "metadata": {},
     "output_type": "execute_result"
    }
   ],
   "source": [
    "a=\"f7289965032e3bce6a33f236101027f310d6270cd1fd12dbb659e1a020916bdfa0004475f0040b2ffa2ee533263366d5bcac72ca85ed014aa46149827b05fb84\"\n",
    "a[:32]"
   ]
  },
  {
   "cell_type": "code",
   "execution_count": 10,
   "id": "9b7ba8c0",
   "metadata": {},
   "outputs": [
    {
     "data": {
      "text/plain": [
       "32"
      ]
     },
     "execution_count": 10,
     "metadata": {},
     "output_type": "execute_result"
    }
   ],
   "source": [
    "len(\"a9a40aabfb7a724ae4933212e2288553\")"
   ]
  },
  {
   "cell_type": "code",
   "execution_count": null,
   "id": "10508202",
   "metadata": {},
   "outputs": [],
   "source": [
    "iv=f7289965032e3bce6a33f236101027f3\n",
    "message=10d6270cd1fd12dbb659e1a020916bdfa0004475f0040b2ffa2ee533263366d5bcac72ca85ed014aa46149827b05fb84\n"
   ]
  },
  {
   "cell_type": "code",
   "execution_count": 13,
   "id": "c4314c47",
   "metadata": {},
   "outputs": [
    {
     "data": {
      "text/plain": [
       "13598106949710861226040907156776063580696467721012178473926820326778698890517177276788777024995063849668755738330116"
      ]
     },
     "execution_count": 13,
     "metadata": {},
     "output_type": "execute_result"
    }
   ],
   "source": [
    "int(\"58594354467b31663363626332312d663735362d346132382d613030372d6436653838633735653631667d0a04040404\",16)"
   ]
  },
  {
   "cell_type": "code",
   "execution_count": 15,
   "id": "d5e2221a",
   "metadata": {},
   "outputs": [
    {
     "name": "stdout",
     "output_type": "stream",
     "text": [
      "b'XYCTF{1f3cbc21-f756-4a28-a007-d6e88c75e61f}\\n\\x04\\x04\\x04\\x04'\n"
     ]
    }
   ],
   "source": [
    "print(bytes.fromhex('58594354467b31663363626332312d663735362d346132382d613030372d6436653838633735653631667d0a04040404'))"
   ]
  },
  {
   "cell_type": "code",
   "execution_count": 16,
   "id": "add0cde1",
   "metadata": {},
   "outputs": [
    {
     "name": "stdout",
     "output_type": "stream",
     "text": [
      "b'XYCTF{f5eef142-b3a3-4183-a660-9ca734f91e64}\\n\\x04\\x04\\x04\\x04'\n"
     ]
    }
   ],
   "source": [
    "print(bytes.fromhex('58594354467b66356565663134322d623361332d343138332d613636302d3963613733346639316536347d0a04040404'))"
   ]
  },
  {
   "cell_type": "code",
   "execution_count": null,
   "id": "78abf90f",
   "metadata": {},
   "outputs": [],
   "source": []
  }
 ],
 "metadata": {
  "kernelspec": {
   "display_name": "Python 3 (ipykernel)",
   "language": "python",
   "name": "python3"
  },
  "language_info": {
   "codemirror_mode": {
    "name": "ipython",
    "version": 3
   },
   "file_extension": ".py",
   "mimetype": "text/x-python",
   "name": "python",
   "nbconvert_exporter": "python",
   "pygments_lexer": "ipython3",
   "version": "3.11.4"
  }
 },
 "nbformat": 4,
 "nbformat_minor": 5
}
