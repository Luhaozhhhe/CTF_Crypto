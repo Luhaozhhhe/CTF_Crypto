{
 "cells": [
  {
   "cell_type": "code",
   "execution_count": null,
   "id": "1030deb3",
   "metadata": {},
   "outputs": [],
   "source": [
    "from Crypto.Util.number import *\n",
    "import hashlib\n",
    "from secrets import flag\n",
    "\n",
    "\n",
    "def hash(x):\n",
    "    return hashlib.sha256(x.encode()).digest()\n",
    "\n",
    "\n",
    "def pad(message):\n",
    "    return message + hash(str(len(message)))\n",
    "\n",
    "\n",
    "m = bytes_to_long(pad(flag))\n",
    "p = getStrongPrime(512)\n",
    "q = getStrongPrime(512)\n",
    "n = p * q\n",
    "e = 3   \n",
    "print(pow(m, e, n))\n",
    "print(n)\n",
    "# 120440199294949712392334113337541924034371176306546446428347114627162894108760435789068328282135879182130546564535108930827440004987170619301799710272329673259390065147556073101312748104743572369383346039000998822862286001416166288971531241789864076857299162050026949096919395896174243383291126202796610039053\n",
    "# 143413213355903851638663645270518081058249439863120739973910994223793329606595495141951165221740599158773181585002460087410975579141155680671886930801733174300593785562287068287654547100320094291092508723488470015821072834947151827362715749438612812148855627557719115676595686347541785037035334177162406305243\n"
   ]
  },
  {
   "cell_type": "code",
   "execution_count": null,
   "id": "67ee2db1",
   "metadata": {},
   "outputs": [],
   "source": [
    "##这部分是用m的高位和低位来进行攻击，求解出最后的完整的m"
   ]
  },
  {
   "cell_type": "code",
   "execution_count": 6,
   "id": "f48037ee",
   "metadata": {
    "scrolled": true
   },
   "outputs": [
    {
     "name": "stdout",
     "output_type": "stream",
     "text": [
      "12\n",
      "b'XYCTF{11111}kQ\\xd41\\xdf]\\x7f\\x14\\x1c\\xbe\\xce\\xcc\\xf7\\x9e\\xdf=\\xd8a\\xc3\\xb4\\x06\\x9f\\x0b\\x11f\\x1a>\\xef\\xac\\xbb\\xa9\\x18'\n",
      "b'XYCTF{\\xe7\\xf6\\xc0\\x11wn\\x8d\\xb7\\xcd3\\x0bT\\x17O\\xd7o}\\x02\\x16\\xb6\\x128z_\\xfc\\xfb\\x81\\xe6\\xf0\\x91\\x96\\x83'\n",
      "3166055993575337602015414973741242671831109975990102434156071716752260468729664845309969022874407124314392\n",
      "0b101100001011001010000110101010001000110011110111110011111110110110000000001000101110111011011101000110110110111110011010011001100001011010101000001011101001111110101110110111101111101000000100001011010110110000100100011100001111010010111111111110011111011100000011110011011110000100100011001011010000011\n",
      "0b101100001011001010000110101010001000110011110110011000100110001001100010011000100110001011111010110101101010001110101000011000111011111010111010111111100010100000111001011111011001110110011001111011110011110110111110011110111011000011000011100001110110100000001101001111100001011000100010110011000011010001111101110111110101100101110111010100100011000\n"
     ]
    }
   ],
   "source": [
    "from Crypto.Util.number import *\n",
    "import hashlib\n",
    "def hash(x):\n",
    "    return hashlib.sha256(x.encode()).digest()\n",
    "def pad(message):\n",
    "    return message + hash(str(len(message)))\n",
    "\n",
    "flag=b'XYCTF{11111}'\n",
    "flag2=b'XYCTF{'\n",
    "print(len(flag))\n",
    "print(pad(flag))\n",
    "print(pad(flag2))\n",
    "print(bytes_to_long(pad(flag)))\n",
    "print(bin(bytes_to_long(pad(flag2))))\n",
    "print(bin(bytes_to_long(pad(flag))))\n"
   ]
  },
  {
   "cell_type": "code",
   "execution_count": 13,
   "id": "c2ad376a",
   "metadata": {},
   "outputs": [
    {
     "data": {
      "text/plain": [
       "3166055993575233561401470728260683216795058717805797459591944490123898049985948429839166344230052391026688"
      ]
     },
     "execution_count": 13,
     "metadata": {},
     "output_type": "execute_result"
    }
   ],
   "source": [
    "int(\"101100001011001010000110101010001000110011110000000000000000000000000000000000000000000000000000000000000000000000000000000000000000000000000000000000000000000000000000000000000000000000000000000000000000000000000000000000000000000000000000000000000000000000000000000000000000000000000000000000000000000000000000000000000000000000000000000000000000000\",2)"
   ]
  },
  {
   "cell_type": "code",
   "execution_count": 12,
   "id": "c1f5ef98",
   "metadata": {},
   "outputs": [
    {
     "data": {
      "text/plain": [
       "351"
      ]
     },
     "execution_count": 12,
     "metadata": {},
     "output_type": "execute_result"
    }
   ],
   "source": [
    "len(\"101100001011001010000110101010001000110011110000000000000000000000000000000000000000000000000000000000000000000000000000000000000000000000000000000000000000000000000000000000000000000000000000000000000000000000000000000000000000000000000000000000000000000000000000000000000000000000000000000000000000000000000000000000000000000000000000000000000000000\")"
   ]
  },
  {
   "cell_type": "code",
   "execution_count": 20,
   "id": "3bff3e14",
   "metadata": {},
   "outputs": [
    {
     "ename": "SyntaxError",
     "evalue": "invalid syntax (1480618253.py, line 4)",
     "output_type": "error",
     "traceback": [
      "\u001b[1;36m  Cell \u001b[1;32mIn[20], line 4\u001b[1;36m\u001b[0m\n\u001b[1;33m    R.<x> = PolynomialRing(Zmod(n))\u001b[0m\n\u001b[1;37m      ^\u001b[0m\n\u001b[1;31mSyntaxError\u001b[0m\u001b[1;31m:\u001b[0m invalid syntax\n"
     ]
    }
   ],
   "source": [
    "from hashlib import sha256\n",
    "n =143413213355903851638663645270518081058249439863120739973910994223793329606595495141951165221740599158773181585002460087410975579141155680671886930801733174300593785562287068287654547100320094291092508723488470015821072834947151827362715749438612812148855627557719115676595686347541785037035334177162406305243\n",
    "e=3\n",
    "R.<x> = PolynomialRing(Zmod(n))\n",
    "def solve(t, ml, c):\n",
    "    f = (bytes_to_long(b'XYCTF{') * 2**((t-6)*8+256) + x*2**264 + ml +ord('}')*2**256)^e - c\n",
    "    print(f.monic().small_roots(X=2**(8*(t-7))))\n",
    "\n",
    "c =120440199294949712392334113337541924034371176306546446428347114627162894108760435789068328282135879182130546564535108930827440004987170619301799710272329673259390065147556073101312748104743572369383346039000998822862286001416166288971531241789864076857299162050026949096919395896174243383291126202796610039053\n",
    "\n",
    "solve(38,79001261933787772368616944061130683375801671526289302723479720265264640619632, c)"
   ]
  },
  {
   "cell_type": "code",
   "execution_count": 10,
   "id": "9e5f55dd",
   "metadata": {},
   "outputs": [
    {
     "data": {
      "text/plain": [
       "97140404930171"
      ]
     },
     "execution_count": 10,
     "metadata": {},
     "output_type": "execute_result"
    }
   ],
   "source": [
    "from Crypto.Util.number import *\n",
    "bytes_to_long(b'XYCTF{')"
   ]
  },
  {
   "cell_type": "code",
   "execution_count": 19,
   "id": "82df8e49",
   "metadata": {
    "scrolled": true
   },
   "outputs": [
    {
     "data": {
      "text/plain": [
       "79001261933787772368616944061130683375801671526289302723479720265264640619632"
      ]
     },
     "execution_count": 19,
     "metadata": {},
     "output_type": "execute_result"
    }
   ],
   "source": [
    "from hashlib import sha256\n",
    "int(sha256(str(38).encode()).hexdigest(), 16)"
   ]
  },
  {
   "cell_type": "code",
   "execution_count": null,
   "id": "31c05dd8",
   "metadata": {},
   "outputs": [],
   "source": [
    "58964190787951927773278389967057377362495121527440001979648729026891046689"
   ]
  },
  {
   "cell_type": "code",
   "execution_count": 23,
   "id": "ae6e46ad",
   "metadata": {},
   "outputs": [
    {
     "name": "stdout",
     "output_type": "stream",
     "text": [
      "b'\\xae\\xa9!2\\xc4\\xcb\\xeb&>j\\xc2\\xbfl\\x18;]\\x81s\\x7f\\x17\\x9f!\\xef\\xdcXcs\\x96r\\xf0\\xf4p'\n"
     ]
    }
   ],
   "source": [
    "from Crypto.Util.number import *\n",
    "import hashlib\n",
    "\n",
    "\n",
    "\n",
    "def hash(x):\n",
    "    return hashlib.sha256(x.encode()).digest()\n",
    "\n",
    "\n",
    "def pad(message):\n",
    "    return message + hash(str(38))\n",
    "\n",
    "print(hash(str(38)))"
   ]
  },
  {
   "cell_type": "code",
   "execution_count": 24,
   "id": "ae66b5b1",
   "metadata": {},
   "outputs": [
    {
     "data": {
      "text/plain": [
       "b'!__d3ng__hu0__1@n__3h@n__Chu__!'"
      ]
     },
     "execution_count": 24,
     "metadata": {},
     "output_type": "execute_result"
    }
   ],
   "source": [
    "from Crypto.Util.number import *\n",
    "long_to_bytes(58964190787951927773278389967057377362495121527440001979648729026891046689)"
   ]
  },
  {
   "cell_type": "code",
   "execution_count": null,
   "id": "59f95114",
   "metadata": {},
   "outputs": [],
   "source": [
    "XYCTF{!__d3ng__hu0__1@n__3h@n__Chu__!}"
   ]
  }
 ],
 "metadata": {
  "kernelspec": {
   "display_name": "Python 3 (ipykernel)",
   "language": "python",
   "name": "python3"
  },
  "language_info": {
   "codemirror_mode": {
    "name": "ipython",
    "version": 3
   },
   "file_extension": ".py",
   "mimetype": "text/x-python",
   "name": "python",
   "nbconvert_exporter": "python",
   "pygments_lexer": "ipython3",
   "version": "3.11.4"
  }
 },
 "nbformat": 4,
 "nbformat_minor": 5
}
