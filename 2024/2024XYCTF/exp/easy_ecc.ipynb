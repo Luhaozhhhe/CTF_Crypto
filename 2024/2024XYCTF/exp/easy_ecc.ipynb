{
 "cells": [
  {
   "cell_type": "code",
   "execution_count": null,
   "id": "f847e089",
   "metadata": {},
   "outputs": [],
   "source": [
    "from Crypto.Util.number import *\n",
    "from hashlib import sha256\n",
    "from secret import flag, secret,SECRET\n",
    "\n",
    "assert flag[6:-1] == sha256(long_to_bytes(secret)).hexdigest().encode()\n",
    "\n",
    "\n",
    "class ECC_easy:\n",
    "    def __init__(self):\n",
    "        self.a = 1098066776930223927329092382214459309226361965213\n",
    "        self.b = 1263248714105743124314734095577181018742053879965591734\n",
    "        self.p = 1365855822212045061018261334821659180641576788523935481\n",
    "\n",
    "    def add(self, P, Q):\n",
    "        mul_inv = lambda x: pow(x, -1, self.p)\n",
    "        x1, y1 = P\n",
    "        x2, y2 = Q\n",
    "        if P!=Q:\n",
    "            l=(y2-y1)*inverse(x2-x1,self.p)%self.p\n",
    "        else:l=(3*x1**2+2*self.a*x1+1)*inverse(2*self.b*y1,self.p)%self.p\n",
    "        temp1 = (self.b*l**2-self.a-x1-x2)%self.p\n",
    "        temp2 = ((2*x1+x2+self.a)*l-self.b*l**3-y1)%self.p\n",
    "        x3 = temp1\n",
    "        y3 = temp2\n",
    "        return x3, y3\n",
    "\n",
    "    def mul(self, x, P):\n",
    "        Q = SECRET\n",
    "        x = x % self.p\n",
    "        while x > 0:\n",
    "            if x & 1:\n",
    "                Q = self.add(Q, P)\n",
    "            P = self.add(P, P)\n",
    "            x >>= 1\n",
    "        return Q\n",
    "\n",
    "    def ispoint(self, x, y):\n",
    "        return (self.a * x ** 2 + x ** 3+x) % self.p == (self.b * y ** 2) % self.p\n",
    "\n",
    "\n",
    "ecc = ECC_easy()\n",
    "LLLL = (804603363012007759329983017410816754946539644939,668360700828957783980888938878566241242911721895008218)\n",
    "assert ecc.ispoint(LLLL[0], LLLL[1])\n",
    "END = ecc.mul(secret, LLLL)\n",
    "print(END)\n",
    "\n",
    "# (933414165833077907509715600260551365988944141925739220,121346737700219338084994830488363509910434835223666824)"
   ]
  },
  {
   "cell_type": "code",
   "execution_count": 3,
   "id": "4bef6f87",
   "metadata": {},
   "outputs": [
    {
     "ename": "ModuleNotFoundError",
     "evalue": "No module named 'sage'",
     "output_type": "error",
     "traceback": [
      "\u001b[1;31m---------------------------------------------------------------------------\u001b[0m",
      "\u001b[1;31mModuleNotFoundError\u001b[0m                       Traceback (most recent call last)",
      "Cell \u001b[1;32mIn[3], line 10\u001b[0m\n\u001b[0;32m      6\u001b[0m LLLL \u001b[38;5;241m=\u001b[39m (\u001b[38;5;241m804603363012007759329983017410816754946539644939\u001b[39m,\u001b[38;5;241m668360700828957783980888938878566241242911721895008218\u001b[39m)\n\u001b[0;32m      7\u001b[0m END\u001b[38;5;241m=\u001b[39m(\u001b[38;5;241m933414165833077907509715600260551365988944141925739220\u001b[39m,\u001b[38;5;241m121346737700219338084994830488363509910434835223666824\u001b[39m)\n\u001b[1;32m---> 10\u001b[0m \u001b[38;5;28;01mfrom\u001b[39;00m \u001b[38;5;21;01msage\u001b[39;00m\u001b[38;5;21;01m.\u001b[39;00m\u001b[38;5;21;01mall\u001b[39;00m \u001b[38;5;28;01mimport\u001b[39;00m GF\n\u001b[0;32m     13\u001b[0m \u001b[38;5;28;01mdef\u001b[39;00m \u001b[38;5;21mattack\u001b[39m(p, a2, a4, a6, Gx, Gy, Px, Py):\n\u001b[0;32m     14\u001b[0m \u001b[38;5;250m    \u001b[39m\u001b[38;5;124;03m\"\"\"\u001b[39;00m\n\u001b[0;32m     15\u001b[0m \u001b[38;5;124;03m    Solves the discrete logarithm problem on a singular curve (y^2 = x^3 + a2 * x^2 + a4 * x + a6).\u001b[39;00m\n\u001b[0;32m     16\u001b[0m \u001b[38;5;124;03m    :param p: the prime of the curve base ring\u001b[39;00m\n\u001b[1;32m   (...)\u001b[0m\n\u001b[0;32m     24\u001b[0m \u001b[38;5;124;03m    :return: l such that l * G == P\u001b[39;00m\n\u001b[0;32m     25\u001b[0m \u001b[38;5;124;03m    \"\"\"\u001b[39;00m\n",
      "\u001b[1;31mModuleNotFoundError\u001b[0m: No module named 'sage'"
     ]
    }
   ],
   "source": [
    "from Crypto.Util.number import *\n",
    "\n",
    "A=1098066776930223927329092382214459309226361965213\n",
    "B=1263248714105743124314734095577181018742053879965591734\n",
    "p=1365855822212045061018261334821659180641576788523935481\n",
    "LLLL = (804603363012007759329983017410816754946539644939,668360700828957783980888938878566241242911721895008218)\n",
    "END=(933414165833077907509715600260551365988944141925739220,121346737700219338084994830488363509910434835223666824)\n",
    "\n",
    "\n",
    "\n",
    "\n",
    "\n",
    "def attack(p, a2, a4, a6, Gx, Gy, Px, Py):\n",
    "    \"\"\"\n",
    "    Solves the discrete logarithm problem on a singular curve (y^2 = x^3 + a2 * x^2 + a4 * x + a6).\n",
    "    :param p: the prime of the curve base ring\n",
    "    :param a2: the a2 parameter of the curve\n",
    "    :param a4: the a4 parameter of the curve\n",
    "    :param a6: the a6 parameter of the curve\n",
    "    :param Gx: the base point x value\n",
    "    :param Gy: the base point y value\n",
    "    :param Px: the point multiplication result x value\n",
    "    :param Py: the point multiplication result y value\n",
    "    :return: l such that l * G == P\n",
    "    \"\"\"\n",
    "    x = GF(p)[\"x\"].gen()\n",
    "    f = x ** 3 + a2 * x ** 2 + a4 * x + a6\n",
    "    roots = f.roots()\n",
    "\n",
    "    # Singular point is a cusp.\n",
    "    if len(roots) == 1:\n",
    "        alpha = roots[0][0]\n",
    "        u = (Gx - alpha) / Gy\n",
    "        v = (Px - alpha) / Py\n",
    "        return int(v / u)\n",
    "\n",
    "    # Singular point is a node.\n",
    "    if len(roots) == 2:\n",
    "        if roots[0][1] == 2:\n",
    "            alpha = roots[0][0]\n",
    "            beta = roots[1][0]\n",
    "        elif roots[1][1] == 2:\n",
    "            alpha = roots[1][0]\n",
    "            beta = roots[0][0]\n",
    "        else:\n",
    "            raise ValueError(\"Expected root with multiplicity 2.\")\n",
    "\n",
    "        t = (alpha - beta).sqrt()\n",
    "        u = (Gy + t * (Gx - alpha)) / (Gy - t * (Gx - alpha))\n",
    "        v = (Py + t * (Px - alpha)) / (Py - t * (Px - alpha))\n",
    "        return int(v.log(u))\n",
    "\n",
    "    raise ValueError(f\"Unexpected number of roots {len(roots)}.\")\n",
    "\n",
    "\n",
    "attack(p,A,0,B,804603363012007759329983017410816754946539644939,668360700828957783980888938878566241242911721895008218,933414165833077907509715600260551365988944141925739220,121346737700219338084994830488363509910434835223666824)"
   ]
  },
  {
   "cell_type": "code",
   "execution_count": 6,
   "id": "81e2efcb",
   "metadata": {},
   "outputs": [
    {
     "data": {
      "text/plain": [
       "b'ec9a6e17537e81b7f593f65f7e2ca5d575e6b34c504c24e4afb40c1e9dc4be0d'"
      ]
     },
     "execution_count": 6,
     "metadata": {},
     "output_type": "execute_result"
    }
   ],
   "source": [
    "from Crypto.Util.number import *\n",
    "from hashlib import sha256\n",
    "\n",
    "secret=\n",
    "sha256(long_to_bytes(secret)).hexdigest().encode()"
   ]
  },
  {
   "cell_type": "code",
   "execution_count": null,
   "id": "5a2ea2fa",
   "metadata": {},
   "outputs": [],
   "source": [
    "XYCTF{ec9a6e17537e81b7f593f65f7e2ca5d575e6b34c504c24e4afb40c1e9dc4be0d}"
   ]
  },
  {
   "cell_type": "code",
   "execution_count": 7,
   "id": "feeae539",
   "metadata": {},
   "outputs": [
    {
     "data": {
      "text/plain": [
       "True"
      ]
     },
     "execution_count": 7,
     "metadata": {},
     "output_type": "execute_result"
    }
   ],
   "source": [
    "1365855822212045061018261334821659180641576788523935479==1365855822212045061018261334821659180641576788523935479"
   ]
  },
  {
   "cell_type": "code",
   "execution_count": 8,
   "id": "3e2acf41",
   "metadata": {},
   "outputs": [
    {
     "data": {
      "text/plain": [
       "True"
      ]
     },
     "execution_count": 8,
     "metadata": {},
     "output_type": "execute_result"
    }
   ],
   "source": [
    "1365855822212045061018261334821659180641576788523935481==1365855822212045061018261334821659180641576788523935481"
   ]
  },
  {
   "cell_type": "code",
   "execution_count": 9,
   "id": "5a8bdad5",
   "metadata": {},
   "outputs": [
    {
     "data": {
      "text/plain": [
       "True"
      ]
     },
     "execution_count": 9,
     "metadata": {},
     "output_type": "execute_result"
    }
   ],
   "source": [
    "17329427219955161804703200105884322768704934833367341==17329427219955161804703200105884322768704934833367341"
   ]
  },
  {
   "cell_type": "code",
   "execution_count": 10,
   "id": "34043652",
   "metadata": {},
   "outputs": [
    {
     "data": {
      "text/plain": [
       "True"
      ]
     },
     "execution_count": 10,
     "metadata": {},
     "output_type": "execute_result"
    }
   ],
   "source": [
    "(1060114032187482137663886206406014543797784561116139791,752764811411303365258802649951280929945966659818544966)==(1060114032187482137663886206406014543797784561116139791,752764811411303365258802649951280929945966659818544966)"
   ]
  },
  {
   "cell_type": "code",
   "execution_count": 11,
   "id": "360ca95c",
   "metadata": {},
   "outputs": [
    {
     "data": {
      "text/plain": [
       "True"
      ]
     },
     "execution_count": 11,
     "metadata": {},
     "output_type": "execute_result"
    }
   ],
   "source": [
    "(695174082657148306737473938393010922439779304870471540,414626357054958506867453055549756701310099524292082869)==(695174082657148306737473938393010922439779304870471540,414626357054958506867453055549756701310099524292082869)"
   ]
  },
  {
   "cell_type": "code",
   "execution_count": null,
   "id": "f712c9f6",
   "metadata": {},
   "outputs": [],
   "source": []
  }
 ],
 "metadata": {
  "kernelspec": {
   "display_name": "Python 3 (ipykernel)",
   "language": "python",
   "name": "python3"
  },
  "language_info": {
   "codemirror_mode": {
    "name": "ipython",
    "version": 3
   },
   "file_extension": ".py",
   "mimetype": "text/x-python",
   "name": "python",
   "nbconvert_exporter": "python",
   "pygments_lexer": "ipython3",
   "version": "3.11.4"
  }
 },
 "nbformat": 4,
 "nbformat_minor": 5
}
