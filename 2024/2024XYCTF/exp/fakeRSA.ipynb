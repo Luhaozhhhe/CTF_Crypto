{
 "cells": [
  {
   "cell_type": "code",
   "execution_count": null,
   "id": "4ef8f776",
   "metadata": {},
   "outputs": [],
   "source": [
    "from Crypto.Util.number import *\n",
    "\n",
    "flag = b'XYCTF{******}'\n",
    "n = ZZ(bytes_to_long(flag))\n",
    "p = getPrime(int(320))\n",
    "print(p)\n",
    "\n",
    "G = Zmod(p)\n",
    "\n",
    "def function(X, Y, Z):\n",
    "    def part(a, b, c):\n",
    "        return vector([9 * a - 36 * c, 6 * a - 27 * c, b])\n",
    "    def parts(n):\n",
    "        Gx.<a, b, c> = G[]\n",
    "        if n == 0: return vector([a, b, c])\n",
    "        mid = parts(n // 2)\n",
    "        result = mid(*mid)\n",
    "        if n % 2 == 0: return result\n",
    "        else: return part(*result)\n",
    "    return parts(n)(X, Y, Z)\n",
    "\n",
    "print(function(69, 48, 52))\n",
    "\n",
    "\n",
    "#1849790472911267366045392456893126092698743308291512220657006129900961168811898822553602045875909\n",
    "#(1431995965813617415860695748430644570118959991271395110995534704629241309597572003500157255135707, 1011565891130611736600822618382801465506651972373410962205810570075870804325974377971089090196019, 784497518859893244278116222363814433595961164446277297084989532659832474887622082585456138030246)\n"
   ]
  },
  {
   "cell_type": "code",
   "execution_count": 6,
   "id": "d173ea26",
   "metadata": {},
   "outputs": [
    {
     "ename": "SyntaxError",
     "evalue": "invalid syntax (276505677.py, line 9)",
     "output_type": "error",
     "traceback": [
      "\u001b[1;36m  Cell \u001b[1;32mIn[6], line 9\u001b[1;36m\u001b[0m\n\u001b[1;33m    Gx.<a,b,c> = G[]\u001b[0m\n\u001b[1;37m       ^\u001b[0m\n\u001b[1;31mSyntaxError\u001b[0m\u001b[1;31m:\u001b[0m invalid syntax\n"
     ]
    }
   ],
   "source": [
    "\n",
    "from Crypto.Util.number import *\n",
    "p =1849790472911267366045392456893126092698743308291512220657006129900961168811898822553602045875909\n",
    "G = Zmod(p)\n",
    "def function(n, X, Y, Z):\n",
    "    def part(a, b, c):\n",
    "        return vector([9 * a - 36 * c, 6 * a - 27 * c, b])\n",
    "    def parts(n):\n",
    "        Gx.<a,b,c> = G[]\n",
    "        if n == 0: return vector([a, b, c])\n",
    "        mid = parts(n // 2)\n",
    "        result = mid(*mid)\n",
    "        if n % 2 == 0: return result\n",
    "        else: return part(*result)\n",
    "    return parts(n)(X, Y, Z)\n",
    "a0 = vector(GF(p), function(1, 69, 48, 52))\n",
    "a1 = vector(GF(p), function(2, 69, 48, 52))\n",
    "a2 = vector(GF(p), function(3, 69, 48, 52))\n",
    "\n",
    "def inv(v):\n",
    "    a, b, c = v[0], v[1], v[2]\n",
    "    x = (3*a - 4*b) * inverse(3, p)\n",
    "    y = c\n",
    "    z = (2*a - 3*b) * inverse(9, p)\n",
    "    return (x, y, z)\n",
    "\n",
    "b2 = vector(GF(p),[1431995965813617415860695748430644570118959991271395110995534704629241309597572003500157255135707,1011565891130611736600822618382801465506651972373410962205810570075870804325974377971089090196019,784497518859893244278116222363814433595961164446277297084989532659832474887622082585456138030246])\n",
    "b1 = vector(GF(p), inv(b2))\n",
    "b0 = vector(GF(p), inv(b1))\n",
    "a = matrix(GF(p), [a0, a1, a2])\n",
    "b = matrix(GF(p), [b0, b1, b2])\n",
    "x = a.solve_right(b)\n",
    "G = matrix(GF(p), [[9, 6, 0], [0, 0, 1], [-36, -27, 0]])\n",
    "J, P = G.jordan_form(transformation=True)\n",
    "H = ~P*x*P\n",
    "long_to_bytes(int(3*H[0][1]/H[0][0])+3)"
   ]
  },
  {
   "cell_type": "code",
   "execution_count": 13,
   "id": "dfa1b4f9",
   "metadata": {},
   "outputs": [
    {
     "data": {
      "text/plain": [
       "1233193648607511577363594971262084061799162205527674813771337419933974112541265881702401363917273"
      ]
     },
     "execution_count": 13,
     "metadata": {},
     "output_type": "execute_result"
    }
   ],
   "source": [
    "from Crypto.Util.number import *\n",
    "p=1849790472911267366045392456893126092698743308291512220657006129900961168811898822553602045875909\n",
    "inverse(3, p)"
   ]
  },
  {
   "cell_type": "code",
   "execution_count": null,
   "id": "a610a53b",
   "metadata": {},
   "outputs": [],
   "source": []
  },
  {
   "cell_type": "code",
   "execution_count": 12,
   "id": "5dbc3122",
   "metadata": {},
   "outputs": [
    {
     "data": {
      "text/plain": [
       "b'XYCTF{y0u_finally_f0und_t3h_s3cr3ts!!}'"
      ]
     },
     "execution_count": 12,
     "metadata": {},
     "output_type": "execute_result"
    }
   ],
   "source": [
    "long_to_bytes(11248090436223445352625693407089269386223255468324240386169564292825656540049141991068475773)"
   ]
  },
  {
   "cell_type": "code",
   "execution_count": null,
   "id": "4fb09ccd",
   "metadata": {},
   "outputs": [],
   "source": []
  }
 ],
 "metadata": {
  "kernelspec": {
   "display_name": "Python 3 (ipykernel)",
   "language": "python",
   "name": "python3"
  },
  "language_info": {
   "codemirror_mode": {
    "name": "ipython",
    "version": 3
   },
   "file_extension": ".py",
   "mimetype": "text/x-python",
   "name": "python",
   "nbconvert_exporter": "python",
   "pygments_lexer": "ipython3",
   "version": "3.11.4"
  }
 },
 "nbformat": 4,
 "nbformat_minor": 5
}
